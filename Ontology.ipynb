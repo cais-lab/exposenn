{
 "cells": [
  {
   "cell_type": "code",
   "execution_count": 2,
   "id": "25945c98-8366-417a-ba72-41b98dc38652",
   "metadata": {},
   "outputs": [
    {
     "name": "stderr",
     "output_type": "stream",
     "text": [
      "\n",
      "Warning: SQLite3 version 3.40.0 and 3.41.2 have huge performance regressions; please install version 3.41.1 or 3.42!\n",
      "\n"
     ]
    }
   ],
   "source": [
    "import owlready2"
   ]
  },
  {
   "cell_type": "code",
   "execution_count": 3,
   "id": "54c21544-74d2-409f-85c0-439071e75d36",
   "metadata": {},
   "outputs": [],
   "source": [
    "onto = owlready2.get_ontology('ontologies/demo.rdf').load()"
   ]
  },
  {
   "cell_type": "code",
   "execution_count": 4,
   "id": "386bc7b1-a307-407f-b912-b85f41797a32",
   "metadata": {},
   "outputs": [
    {
     "data": {
      "text/plain": [
       "[demo.A,\n",
       " demo.AorB,\n",
       " demo.B,\n",
       " demo.C,\n",
       " demo.D,\n",
       " demo.Class1,\n",
       " demo.Class2,\n",
       " demo.E,\n",
       " demo.F,\n",
       " demo.G]"
      ]
     },
     "execution_count": 4,
     "metadata": {},
     "output_type": "execute_result"
    }
   ],
   "source": [
    "list(onto.classes())"
   ]
  },
  {
   "cell_type": "code",
   "execution_count": 5,
   "id": "d4c6da08",
   "metadata": {},
   "outputs": [
    {
     "name": "stderr",
     "output_type": "stream",
     "text": [
      "* Owlready2 * Running HermiT...\n",
      "    java -Xmx2000M -cp C:\\opt\\miniconda3\\envs\\aim\\lib\\site-packages\\owlready2\\hermit;C:\\opt\\miniconda3\\envs\\aim\\lib\\site-packages\\owlready2\\hermit\\HermiT.jar org.semanticweb.HermiT.cli.CommandLine -c -O -D -I file:///C:/Users/hatter/AppData/Local/Temp/tmphicpnb8i\n",
      "* Owlready2 * HermiT took 0.8766274452209473 seconds\n",
      "* Owlready * Reparenting demo.Class1: {owl.Thing} => {demo.AorB, demo.C}\n",
      "* Owlready * Reparenting demo.B: {owl.Thing} => {demo.AorB}\n",
      "* Owlready * Reparenting demo.A: {owl.Thing} => {demo.AorB}\n",
      "* Owlready * (NB: only changes on entities loaded in Python are shown, other changes are done but not listed)\n"
     ]
    }
   ],
   "source": [
    "owlready2.sync_reasoner()"
   ]
  },
  {
   "cell_type": "code",
   "execution_count": 15,
   "id": "93dc0688",
   "metadata": {},
   "outputs": [
    {
     "data": {
      "text/plain": [
       "[demo.AorB & demo.C, demo.AorB, demo.C]"
      ]
     },
     "execution_count": 15,
     "metadata": {},
     "output_type": "execute_result"
    }
   ],
   "source": [
    "onto['Class1'].is_a"
   ]
  },
  {
   "cell_type": "code",
   "execution_count": 18,
   "id": "0a26e298",
   "metadata": {},
   "outputs": [
    {
     "data": {
      "text/plain": [
       "owlready2.class_construct.And"
      ]
     },
     "execution_count": 18,
     "metadata": {},
     "output_type": "execute_result"
    }
   ],
   "source": [
    "type(onto['Class1'].is_a[0])"
   ]
  },
  {
   "cell_type": "code",
   "execution_count": 27,
   "id": "d9babcb6",
   "metadata": {},
   "outputs": [
    {
     "name": "stdout",
     "output_type": "stream",
     "text": [
      "demo.A -> [demo.AorB]\n",
      "demo.AorB -> [owl.Thing]\n",
      "demo.B -> [demo.AorB]\n",
      "demo.C -> [owl.Thing]\n",
      "demo.D -> [owl.Thing]\n",
      "demo.Class1 -> [demo.AorB & demo.C, demo.AorB, demo.C]\n",
      "demo.Class2 -> [owl.Thing]\n",
      "demo.E -> [owl.Thing]\n",
      "demo.F -> [owl.Thing]\n",
      "demo.G -> [owl.Thing]\n"
     ]
    }
   ],
   "source": [
    "for c in onto.classes():\n",
    "    print(c, '->', c.is_a)"
   ]
  },
  {
   "cell_type": "code",
   "execution_count": 36,
   "id": "da9e0a98",
   "metadata": {},
   "outputs": [
    {
     "name": "stdout",
     "output_type": "stream",
     "text": [
      "[demo.AorB & demo.C, demo.AorB, demo.C]\n",
      "[demo.A, demo.B, demo.Class1]\n"
     ]
    }
   ],
   "source": [
    "one = onto['Class1'].is_a\n",
    "two = []\n",
    "for c in onto.classes():\n",
    "    for cisa in c.is_a:\n",
    "        if cisa in one and c not in two:\n",
    "            two.append(c)\n",
    "print(one)\n",
    "print(two)"
   ]
  },
  {
   "cell_type": "code",
   "execution_count": 37,
   "id": "8004ed25",
   "metadata": {},
   "outputs": [
    {
     "data": {
      "text/plain": [
       "[demo.AorB & demo.C, demo.AorB, demo.C, demo.A, demo.B, demo.Class1]"
      ]
     },
     "execution_count": 37,
     "metadata": {},
     "output_type": "execute_result"
    }
   ],
   "source": [
    "one + two"
   ]
  },
  {
   "cell_type": "code",
   "execution_count": 39,
   "id": "8811113f",
   "metadata": {},
   "outputs": [
    {
     "data": {
      "text/plain": [
       "[('->', demo.A, demo.AorB),\n",
       " ('->', demo.B, demo.AorB),\n",
       " ('->', demo.Class1, demo.AorB & demo.C),\n",
       " ('->', demo.Class1, demo.AorB),\n",
       " ('->', demo.Class1, demo.C)]"
      ]
     },
     "execution_count": 39,
     "metadata": {},
     "output_type": "execute_result"
    }
   ],
   "source": [
    "def get_statements(concepts):\n",
    "    statements = []\n",
    "    for c in onto.classes():\n",
    "        for cisa in c.is_a:\n",
    "            if c in concepts and cisa in concepts:\n",
    "                statements.append(('->', c, cisa))\n",
    "    return statements\n",
    "\n",
    "get_statements(one+two)"
   ]
  },
  {
   "cell_type": "code",
   "execution_count": 31,
   "id": "555d5e35",
   "metadata": {},
   "outputs": [],
   "source": [
    "owlready2.default_world['Thing']"
   ]
  },
  {
   "cell_type": "code",
   "execution_count": 66,
   "id": "b50e43f2-e9cd-4ae9-aaba-17fc65e1f2f9",
   "metadata": {},
   "outputs": [],
   "source": [
    "query = \"\"\"\n",
    "SELECT DISTINCT ?class ?rel ?eq  WHERE \n",
    "{\n",
    "    # get axiomatized classes\n",
    "    VALUES ?rel { owl:equivalentClass rdfs:subClassOf owl:disjointWith }\n",
    "    ?class ?rel ?eq . \n",
    "}\n",
    "\"\"\""
   ]
  },
  {
   "cell_type": "code",
   "execution_count": 67,
   "id": "522eb299-d42b-499a-be0b-c9f6915e818c",
   "metadata": {},
   "outputs": [],
   "source": [
    "lst1 = list(owlready2.default_world.sparql(query))"
   ]
  },
  {
   "cell_type": "code",
   "execution_count": 68,
   "id": "c010c3cc-e38e-4695-8600-0dc3816fee99",
   "metadata": {},
   "outputs": [
    {
     "data": {
      "text/plain": [
       "[[demo.AorB, 33, demo.A | demo.B],\n",
       " [demo.C, 88, demo.D],\n",
       " [demo.Class1, 9, demo.AorB & demo.C]]"
      ]
     },
     "execution_count": 68,
     "metadata": {},
     "output_type": "execute_result"
    }
   ],
   "source": [
    "lst1"
   ]
  },
  {
   "cell_type": "code",
   "execution_count": 69,
   "id": "a34f9c7b-922c-41ec-a0c0-dcb042337287",
   "metadata": {},
   "outputs": [],
   "source": [
    "lst = list(owlready2.default_world.as_rdflib_graph().query(query))"
   ]
  },
  {
   "cell_type": "code",
   "execution_count": 70,
   "id": "ac2c2f2a-d22b-4a35-a3c2-0b9045346540",
   "metadata": {},
   "outputs": [
    {
     "data": {
      "text/plain": [
       "[(rdflib.term.URIRef('http://cais.iias.spb.su/ontologies/2024/demo#AorB'),\n",
       "  rdflib.term.URIRef('http://www.w3.org/2002/07/owl#equivalentClass'),\n",
       "  rdflib.term.BNode('1')),\n",
       " (rdflib.term.URIRef('http://cais.iias.spb.su/ontologies/2024/demo#Class1'),\n",
       "  rdflib.term.URIRef('http://www.w3.org/2000/01/rdf-schema#subClassOf'),\n",
       "  rdflib.term.BNode('4')),\n",
       " (rdflib.term.URIRef('http://cais.iias.spb.su/ontologies/2024/demo#C'),\n",
       "  rdflib.term.URIRef('http://www.w3.org/2002/07/owl#disjointWith'),\n",
       "  rdflib.term.URIRef('http://cais.iias.spb.su/ontologies/2024/demo#D'))]"
      ]
     },
     "execution_count": 70,
     "metadata": {},
     "output_type": "execute_result"
    }
   ],
   "source": [
    "lst"
   ]
  },
  {
   "cell_type": "code",
   "execution_count": 52,
   "id": "5278e35a-50f8-46a1-aa7d-5c7d8c841bda",
   "metadata": {},
   "outputs": [
    {
     "ename": "ParseException",
     "evalue": "Expected SelectQuery, found 'FILTER'  (at char 55), (line:5, col:5)",
     "output_type": "error",
     "traceback": [
      "\u001b[1;31m---------------------------------------------------------------------------\u001b[0m",
      "\u001b[1;31mParseException\u001b[0m                            Traceback (most recent call last)",
      "Cell \u001b[1;32mIn[52], line 8\u001b[0m\n\u001b[0;32m      1\u001b[0m query1 \u001b[38;5;241m=\u001b[39m \u001b[38;5;124m\"\"\"\u001b[39m\n\u001b[0;32m      2\u001b[0m \u001b[38;5;124mSELECT DISTINCT ?s ?p ?o  WHERE \u001b[39m\n\u001b[0;32m      3\u001b[0m \u001b[38;5;124m{\u001b[39m\n\u001b[1;32m   (...)\u001b[0m\n\u001b[0;32m      6\u001b[0m \u001b[38;5;124m}\u001b[39m\n\u001b[0;32m      7\u001b[0m \u001b[38;5;124m\"\"\"\u001b[39m\n\u001b[1;32m----> 8\u001b[0m \u001b[38;5;28mlist\u001b[39m(\u001b[43mowlready2\u001b[49m\u001b[38;5;241;43m.\u001b[39;49m\u001b[43mdefault_world\u001b[49m\u001b[38;5;241;43m.\u001b[39;49m\u001b[43mas_rdflib_graph\u001b[49m\u001b[43m(\u001b[49m\u001b[43m)\u001b[49m\u001b[38;5;241;43m.\u001b[39;49m\u001b[43mquery\u001b[49m\u001b[43m(\u001b[49m\u001b[43mquery1\u001b[49m\u001b[43m)\u001b[49m)\n",
      "File \u001b[1;32mE:\\opt\\Miniconda3\\envs\\aim\\lib\\site-packages\\rdflib\\graph.py:1565\u001b[0m, in \u001b[0;36mGraph.query\u001b[1;34m(self, query_object, processor, result, initNs, initBindings, use_store_provided, **kwargs)\u001b[0m\n\u001b[0;32m   1562\u001b[0m     processor \u001b[38;5;241m=\u001b[39m plugin\u001b[38;5;241m.\u001b[39mget(processor, query\u001b[38;5;241m.\u001b[39mProcessor)(\u001b[38;5;28mself\u001b[39m)\n\u001b[0;32m   1564\u001b[0m \u001b[38;5;66;03m# type error: Argument 1 to \"Result\" has incompatible type \"Mapping[str, Any]\"; expected \"str\"\u001b[39;00m\n\u001b[1;32m-> 1565\u001b[0m \u001b[38;5;28;01mreturn\u001b[39;00m result(processor\u001b[38;5;241m.\u001b[39mquery(query_object, initBindings, initNs, \u001b[38;5;241m*\u001b[39m\u001b[38;5;241m*\u001b[39mkwargs))\n",
      "File \u001b[1;32mE:\\opt\\Miniconda3\\envs\\aim\\lib\\site-packages\\rdflib\\plugins\\sparql\\processor.py:144\u001b[0m, in \u001b[0;36mSPARQLProcessor.query\u001b[1;34m(self, strOrQuery, initBindings, initNs, base, DEBUG)\u001b[0m\n\u001b[0;32m    124\u001b[0m \u001b[38;5;250m\u001b[39m\u001b[38;5;124;03m\"\"\"\u001b[39;00m\n\u001b[0;32m    125\u001b[0m \u001b[38;5;124;03mEvaluate a query with the given initial bindings, and initial\u001b[39;00m\n\u001b[0;32m    126\u001b[0m \u001b[38;5;124;03mnamespaces. The given base is used to resolve relative URIs in\u001b[39;00m\n\u001b[1;32m   (...)\u001b[0m\n\u001b[0;32m    140\u001b[0m \u001b[38;5;124;03m   documentation.\u001b[39;00m\n\u001b[0;32m    141\u001b[0m \u001b[38;5;124;03m\"\"\"\u001b[39;00m\n\u001b[0;32m    143\u001b[0m \u001b[38;5;28;01mif\u001b[39;00m \u001b[38;5;28misinstance\u001b[39m(strOrQuery, \u001b[38;5;28mstr\u001b[39m):\n\u001b[1;32m--> 144\u001b[0m     strOrQuery \u001b[38;5;241m=\u001b[39m translateQuery(\u001b[43mparseQuery\u001b[49m\u001b[43m(\u001b[49m\u001b[43mstrOrQuery\u001b[49m\u001b[43m)\u001b[49m, base, initNs)\n\u001b[0;32m    146\u001b[0m \u001b[38;5;28;01mreturn\u001b[39;00m evalQuery(\u001b[38;5;28mself\u001b[39m\u001b[38;5;241m.\u001b[39mgraph, strOrQuery, initBindings, base)\n",
      "File \u001b[1;32mE:\\opt\\Miniconda3\\envs\\aim\\lib\\site-packages\\rdflib\\plugins\\sparql\\parser.py:1542\u001b[0m, in \u001b[0;36mparseQuery\u001b[1;34m(q)\u001b[0m\n\u001b[0;32m   1539\u001b[0m     q \u001b[38;5;241m=\u001b[39m q\u001b[38;5;241m.\u001b[39mdecode(\u001b[38;5;124m\"\u001b[39m\u001b[38;5;124mutf-8\u001b[39m\u001b[38;5;124m\"\u001b[39m)\n\u001b[0;32m   1541\u001b[0m q \u001b[38;5;241m=\u001b[39m expandUnicodeEscapes(q)\n\u001b[1;32m-> 1542\u001b[0m \u001b[38;5;28;01mreturn\u001b[39;00m \u001b[43mQuery\u001b[49m\u001b[38;5;241;43m.\u001b[39;49m\u001b[43mparseString\u001b[49m\u001b[43m(\u001b[49m\u001b[43mq\u001b[49m\u001b[43m,\u001b[49m\u001b[43m \u001b[49m\u001b[43mparseAll\u001b[49m\u001b[38;5;241;43m=\u001b[39;49m\u001b[38;5;28;43;01mTrue\u001b[39;49;00m\u001b[43m)\u001b[49m\n",
      "File \u001b[1;32mE:\\opt\\Miniconda3\\envs\\aim\\lib\\site-packages\\pyparsing\\util.py:256\u001b[0m, in \u001b[0;36mreplaced_by_pep8.<locals>._inner\u001b[1;34m(self, *args, **kwargs)\u001b[0m\n\u001b[0;32m    251\u001b[0m \u001b[38;5;129m@wraps\u001b[39m(fn)\n\u001b[0;32m    252\u001b[0m \u001b[38;5;28;01mdef\u001b[39;00m \u001b[38;5;21m_inner\u001b[39m(\u001b[38;5;28mself\u001b[39m, \u001b[38;5;241m*\u001b[39margs, \u001b[38;5;241m*\u001b[39m\u001b[38;5;241m*\u001b[39mkwargs):\n\u001b[0;32m    253\u001b[0m     \u001b[38;5;66;03m# warnings.warn(\u001b[39;00m\n\u001b[0;32m    254\u001b[0m     \u001b[38;5;66;03m#     f\"Deprecated - use {fn.__name__}\", DeprecationWarning, stacklevel=2\u001b[39;00m\n\u001b[0;32m    255\u001b[0m     \u001b[38;5;66;03m# )\u001b[39;00m\n\u001b[1;32m--> 256\u001b[0m     \u001b[38;5;28;01mreturn\u001b[39;00m fn(\u001b[38;5;28mself\u001b[39m, \u001b[38;5;241m*\u001b[39margs, \u001b[38;5;241m*\u001b[39m\u001b[38;5;241m*\u001b[39mkwargs)\n",
      "File \u001b[1;32mE:\\opt\\Miniconda3\\envs\\aim\\lib\\site-packages\\pyparsing\\core.py:1200\u001b[0m, in \u001b[0;36mParserElement.parse_string\u001b[1;34m(self, instring, parse_all, parseAll)\u001b[0m\n\u001b[0;32m   1197\u001b[0m         \u001b[38;5;28;01mraise\u001b[39;00m\n\u001b[0;32m   1198\u001b[0m     \u001b[38;5;28;01melse\u001b[39;00m:\n\u001b[0;32m   1199\u001b[0m         \u001b[38;5;66;03m# catch and re-raise exception from here, clearing out pyparsing internal stack trace\u001b[39;00m\n\u001b[1;32m-> 1200\u001b[0m         \u001b[38;5;28;01mraise\u001b[39;00m exc\u001b[38;5;241m.\u001b[39mwith_traceback(\u001b[38;5;28;01mNone\u001b[39;00m)\n\u001b[0;32m   1201\u001b[0m \u001b[38;5;28;01melse\u001b[39;00m:\n\u001b[0;32m   1202\u001b[0m     \u001b[38;5;28;01mreturn\u001b[39;00m tokens\n",
      "\u001b[1;31mParseException\u001b[0m: Expected SelectQuery, found 'FILTER'  (at char 55), (line:5, col:5)"
     ]
    }
   ],
   "source": [
    "query1 = \"\"\"\n",
    "SELECT DISTINCT ?s ?p ?o  WHERE \n",
    "{\n",
    "    ?s ?p ?o .\n",
    "    FILTER (?s == _:1) \n",
    "}\n",
    "\"\"\"\n",
    "list(owlready2.default_world.as_rdflib_graph().query(query1))"
   ]
  },
  {
   "cell_type": "code",
   "execution_count": 39,
   "id": "eff43b26-68d8-4eac-9843-f41ae9944fac",
   "metadata": {},
   "outputs": [
    {
     "data": {
      "text/plain": [
       "[]"
      ]
     },
     "execution_count": 39,
     "metadata": {},
     "output_type": "execute_result"
    }
   ],
   "source": [
    "o.search(iri=lst[0][2])"
   ]
  },
  {
   "cell_type": "code",
   "execution_count": 44,
   "id": "0648613f-a7c5-462b-945c-a675f726ac39",
   "metadata": {},
   "outputs": [
    {
     "data": {
      "text/plain": [
       "rdflib.term.BNode('1')"
      ]
     },
     "execution_count": 44,
     "metadata": {},
     "output_type": "execute_result"
    }
   ],
   "source": [
    "lst[0][1]"
   ]
  },
  {
   "cell_type": "code",
   "execution_count": 46,
   "id": "5a3c0e8c-59d1-45ad-9ff9-109adb5c4222",
   "metadata": {},
   "outputs": [
    {
     "name": "stdout",
     "output_type": "stream",
     "text": [
      "http://www.w3.org/1999/02/22-rdf-syntax-ns#type http://www.w3.org/2002/07/owl#Class\n",
      "http://www.w3.org/2002/07/owl#unionOf 2\n"
     ]
    }
   ],
   "source": [
    "for p, o in owlready2.default_world.as_rdflib_graph().predicate_objects(lst[0][1]):\n",
    "    print(p, o)"
   ]
  },
  {
   "cell_type": "code",
   "execution_count": 58,
   "id": "f8eceb78-a024-4b34-a4d4-8622febc5fc2",
   "metadata": {},
   "outputs": [
    {
     "ename": "AttributeError",
     "evalue": "'BNode' object has no attribute 'search'",
     "output_type": "error",
     "traceback": [
      "\u001b[1;31m---------------------------------------------------------------------------\u001b[0m",
      "\u001b[1;31mAttributeError\u001b[0m                            Traceback (most recent call last)",
      "Cell \u001b[1;32mIn[58], line 1\u001b[0m\n\u001b[1;32m----> 1\u001b[0m \u001b[43mo\u001b[49m\u001b[38;5;241;43m.\u001b[39;49m\u001b[43msearch\u001b[49m(iri\u001b[38;5;241m=\u001b[39m\u001b[38;5;124m'\u001b[39m\u001b[38;5;124m*Class1*\u001b[39m\u001b[38;5;124m'\u001b[39m)\n",
      "\u001b[1;31mAttributeError\u001b[0m: 'BNode' object has no attribute 'search'"
     ]
    }
   ],
   "source": [
    "o.search(iri='*Class1*')"
   ]
  },
  {
   "cell_type": "code",
   "execution_count": null,
   "id": "0839c49d-bd1d-4d9b-a00e-b823b9eee6fe",
   "metadata": {},
   "outputs": [],
   "source": [
    "for p, o in owlready2.default_world.as_rdflib_graph().predicate_objects(lst[0][1]):\n",
    "    print(p, o)"
   ]
  },
  {
   "cell_type": "code",
   "execution_count": 72,
   "id": "05032bff-fdba-4d71-be0f-585b55d1a3c0",
   "metadata": {},
   "outputs": [],
   "source": [
    "import rdflib"
   ]
  },
  {
   "cell_type": "code",
   "execution_count": 73,
   "id": "b9eccc93-7a39-4362-8b03-b93aaa3d2276",
   "metadata": {},
   "outputs": [],
   "source": [
    "root = rdflib.term.URIRef('http://cais.iias.spb.su/ontologies/2024/demo#Class1')\n"
   ]
  },
  {
   "cell_type": "code",
   "execution_count": 74,
   "id": "810fab41-7b9d-42f0-9b51-8db47a28bc37",
   "metadata": {},
   "outputs": [
    {
     "data": {
      "text/plain": [
       "rdflib.term.URIRef('http://cais.iias.spb.su/ontologies/2024/demo#Class1')"
      ]
     },
     "execution_count": 74,
     "metadata": {},
     "output_type": "execute_result"
    }
   ],
   "source": [
    "root"
   ]
  },
  {
   "cell_type": "code",
   "execution_count": 75,
   "id": "57911741-ad84-4483-a5a3-e485432449c4",
   "metadata": {},
   "outputs": [
    {
     "name": "stdout",
     "output_type": "stream",
     "text": [
      "http://www.w3.org/1999/02/22-rdf-syntax-ns#type http://www.w3.org/2002/07/owl#Class\n",
      "http://www.w3.org/2000/01/rdf-schema#subClassOf 4\n"
     ]
    }
   ],
   "source": [
    "for p, o in owlready2.default_world.as_rdflib_graph().predicate_objects(root):\n",
    "    print(p, o)"
   ]
  },
  {
   "cell_type": "code",
   "execution_count": null,
   "id": "ba599b2c-1de1-4f90-a9e6-7588cea48661",
   "metadata": {},
   "outputs": [],
   "source": []
  }
 ],
 "metadata": {
  "kernelspec": {
   "display_name": "Python 3 (ipykernel)",
   "language": "python",
   "name": "python3"
  },
  "language_info": {
   "codemirror_mode": {
    "name": "ipython",
    "version": 3
   },
   "file_extension": ".py",
   "mimetype": "text/x-python",
   "name": "python",
   "nbconvert_exporter": "python",
   "pygments_lexer": "ipython3",
   "version": "3.9.18"
  }
 },
 "nbformat": 4,
 "nbformat_minor": 5
}
